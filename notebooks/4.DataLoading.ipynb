{
 "cells": [
  {
   "cell_type": "markdown",
   "metadata": {},
   "source": [
    "### Data Loading\n",
    "\n",
    "Este notebook va a ser utilizado para carga el data set ya limpio y con todos los datos necesarios, originalmente scrapeado. Será cargado a MySQL Workbench."
   ]
  },
  {
   "cell_type": "code",
   "execution_count": 1,
   "metadata": {},
   "outputs": [],
   "source": [
    "import mysql.connector as conn\n",
    "from sqlalchemy import create_engine\n",
    "import warnings\n",
    "warnings.filterwarnings('ignore')\n",
    "import pandas as pd"
   ]
  },
  {
   "cell_type": "code",
   "execution_count": 2,
   "metadata": {},
   "outputs": [],
   "source": [
    "with open('contraseñas.txt') as file:\n",
    "    mypasswd = file.read()"
   ]
  },
  {
   "cell_type": "code",
   "execution_count": 3,
   "metadata": {},
   "outputs": [
    {
     "data": {
      "text/plain": [
       "<mysql.connector.cursor_cext.CMySQLCursor at 0x1e8ffc96b30>"
      ]
     },
     "execution_count": 3,
     "metadata": {},
     "output_type": "execute_result"
    }
   ],
   "source": [
    "# Nos conectamos al servidor \n",
    "conexion = conn.connect(host='localhost',\n",
    "                        user='root',\n",
    "                        passwd=f'{mypasswd}'\n",
    "                        )\n",
    "\n",
    "cursor  = conexion.cursor()\n",
    "\n",
    "cursor"
   ]
  },
  {
   "cell_type": "code",
   "execution_count": 4,
   "metadata": {},
   "outputs": [],
   "source": [
    "cursor.execute('drop database if exists orcas')\n",
    "\n",
    "cursor.execute('create database orcas;')"
   ]
  },
  {
   "cell_type": "code",
   "execution_count": 5,
   "metadata": {},
   "outputs": [],
   "source": [
    "conexion = conn.connect(host='localhost',\n",
    "                        user='root',\n",
    "                        passwd=f'{mypasswd}',\n",
    "                        database='orcas'\n",
    "                        )\n",
    "\n",
    "cursor  = conexion.cursor()"
   ]
  },
  {
   "cell_type": "code",
   "execution_count": 6,
   "metadata": {},
   "outputs": [
    {
     "data": {
      "text/plain": [
       "<bound method CMySQLCursor.execute of <mysql.connector.cursor_cext.CMySQLCursor object at 0x000001E8FFC29900>>"
      ]
     },
     "execution_count": 6,
     "metadata": {},
     "output_type": "execute_result"
    }
   ],
   "source": [
    "c = cursor.execute\n",
    "c"
   ]
  },
  {
   "cell_type": "markdown",
   "metadata": {},
   "source": [
    "#### Carga del dataset\n",
    "Leemos y cargamos el archivo CSV que hemos limpiado y completado en pasos anteriores."
   ]
  },
  {
   "cell_type": "code",
   "execution_count": 12,
   "metadata": {},
   "outputs": [
    {
     "data": {
      "text/html": [
       "<div>\n",
       "<style scoped>\n",
       "    .dataframe tbody tr th:only-of-type {\n",
       "        vertical-align: middle;\n",
       "    }\n",
       "\n",
       "    .dataframe tbody tr th {\n",
       "        vertical-align: top;\n",
       "    }\n",
       "\n",
       "    .dataframe thead th {\n",
       "        text-align: right;\n",
       "    }\n",
       "</style>\n",
       "<table border=\"1\" class=\"dataframe\">\n",
       "  <thead>\n",
       "    <tr style=\"text-align: right;\">\n",
       "      <th></th>\n",
       "      <th>Unnamed: 0</th>\n",
       "      <th>date</th>\n",
       "      <th>Latitude</th>\n",
       "      <th>Longitude</th>\n",
       "      <th>Followed_GTOA_Protocol</th>\n",
       "      <th>Interaction_time</th>\n",
       "      <th>Boat_Type</th>\n",
       "      <th>Boat_Length</th>\n",
       "      <th>Towing_Inflatable</th>\n",
       "      <th>Trailing_Fishing_Lure</th>\n",
       "      <th>...</th>\n",
       "      <th>Distance_Off_Land_NM</th>\n",
       "      <th>Depth_Meters</th>\n",
       "      <th>Depth_Gauge</th>\n",
       "      <th>Autopilot</th>\n",
       "      <th>Hull_Topsides_Color</th>\n",
       "      <th>Antifoul_Color</th>\n",
       "      <th>Boat_Damaged</th>\n",
       "      <th>Tow_Required</th>\n",
       "      <th>Crew_Response</th>\n",
       "      <th>Orcas_Behaviour</th>\n",
       "    </tr>\n",
       "  </thead>\n",
       "  <tbody>\n",
       "    <tr>\n",
       "      <th>0</th>\n",
       "      <td>0</td>\n",
       "      <td>2023-11-01 22:15:00</td>\n",
       "      <td>32.791633</td>\n",
       "      <td>-9.906633</td>\n",
       "      <td>No</td>\n",
       "      <td>0-10</td>\n",
       "      <td>Sail</td>\n",
       "      <td>10-12.5</td>\n",
       "      <td>No</td>\n",
       "      <td>No</td>\n",
       "      <td>...</td>\n",
       "      <td>Over 10</td>\n",
       "      <td>200m+</td>\n",
       "      <td>On</td>\n",
       "      <td>On</td>\n",
       "      <td>White/light</td>\n",
       "      <td>Blue</td>\n",
       "      <td>No</td>\n",
       "      <td>No</td>\n",
       "      <td>Orca interaction at 10:15pm on 01/11, 40 miles...</td>\n",
       "      <td>I would describe the behaviour of the Orca dur...</td>\n",
       "    </tr>\n",
       "    <tr>\n",
       "      <th>1</th>\n",
       "      <td>1</td>\n",
       "      <td>2023-10-31 07:50:00</td>\n",
       "      <td>39.433333</td>\n",
       "      <td>-9.383333</td>\n",
       "      <td>Yes</td>\n",
       "      <td>0-10</td>\n",
       "      <td>Sail</td>\n",
       "      <td>12.5-15</td>\n",
       "      <td>No</td>\n",
       "      <td>No</td>\n",
       "      <td>...</td>\n",
       "      <td>2 - 5</td>\n",
       "      <td>40 - 200m</td>\n",
       "      <td>On</td>\n",
       "      <td>On</td>\n",
       "      <td>White/light</td>\n",
       "      <td>Black</td>\n",
       "      <td>Yes, moderate - immediate repairs required</td>\n",
       "      <td>No</td>\n",
       "      <td>We had sandbags on our sugar scoops and metal ...</td>\n",
       "      <td>Juveniles hitting the rudders adults close by</td>\n",
       "    </tr>\n",
       "    <tr>\n",
       "      <th>2</th>\n",
       "      <td>2</td>\n",
       "      <td>2023-09-19 11:00:00</td>\n",
       "      <td>37.666667</td>\n",
       "      <td>-8.900000</td>\n",
       "      <td>No</td>\n",
       "      <td>0-10</td>\n",
       "      <td>Sail</td>\n",
       "      <td>12.5-15</td>\n",
       "      <td>No</td>\n",
       "      <td>No</td>\n",
       "      <td>...</td>\n",
       "      <td>2 - 5</td>\n",
       "      <td>40 - 200m</td>\n",
       "      <td>On</td>\n",
       "      <td>On</td>\n",
       "      <td>White/light</td>\n",
       "      <td>Other</td>\n",
       "      <td>Yes, moderate - immediate repairs required</td>\n",
       "      <td>No</td>\n",
       "      <td>We saw the orca approach from 10 o’clock posit...</td>\n",
       "      <td>There was an initial approach 45 minutes earli...</td>\n",
       "    </tr>\n",
       "    <tr>\n",
       "      <th>3</th>\n",
       "      <td>3</td>\n",
       "      <td>2023-09-01 13:15:00</td>\n",
       "      <td>45.600000</td>\n",
       "      <td>-3.750000</td>\n",
       "      <td>Yes</td>\n",
       "      <td>10-30</td>\n",
       "      <td>Sail</td>\n",
       "      <td>15+</td>\n",
       "      <td>No</td>\n",
       "      <td>Yes</td>\n",
       "      <td>...</td>\n",
       "      <td>Over 10</td>\n",
       "      <td>200m+</td>\n",
       "      <td>Off</td>\n",
       "      <td>Off</td>\n",
       "      <td>White/light</td>\n",
       "      <td>Black</td>\n",
       "      <td>Yes, moderate - immediate repairs required</td>\n",
       "      <td>No</td>\n",
       "      <td>Les trois orques passent constamment de bâbord...</td>\n",
       "      <td>Pas de comportement visblement agressif./// No...</td>\n",
       "    </tr>\n",
       "    <tr>\n",
       "      <th>4</th>\n",
       "      <td>4</td>\n",
       "      <td>2023-09-02 03:45:00</td>\n",
       "      <td>42.750000</td>\n",
       "      <td>-9.233333</td>\n",
       "      <td>Yes</td>\n",
       "      <td>0-10</td>\n",
       "      <td>Sail</td>\n",
       "      <td>12.5-15</td>\n",
       "      <td>No</td>\n",
       "      <td>No</td>\n",
       "      <td>...</td>\n",
       "      <td>5 - 10</td>\n",
       "      <td>40 - 200m</td>\n",
       "      <td>On</td>\n",
       "      <td>On</td>\n",
       "      <td>White/light</td>\n",
       "      <td>Black</td>\n",
       "      <td>Yes, moderate - immediate repairs required</td>\n",
       "      <td>Yes</td>\n",
       "      <td>Arrêt du pilote automatique a la 2 eme interac...</td>\n",
       "      <td>Approche furtive à la première interaction dir...</td>\n",
       "    </tr>\n",
       "  </tbody>\n",
       "</table>\n",
       "<p>5 rows × 31 columns</p>\n",
       "</div>"
      ],
      "text/plain": [
       "   Unnamed: 0                 date   Latitude  Longitude  \\\n",
       "0           0  2023-11-01 22:15:00  32.791633  -9.906633   \n",
       "1           1  2023-10-31 07:50:00  39.433333  -9.383333   \n",
       "2           2  2023-09-19 11:00:00  37.666667  -8.900000   \n",
       "3           3  2023-09-01 13:15:00  45.600000  -3.750000   \n",
       "4           4  2023-09-02 03:45:00  42.750000  -9.233333   \n",
       "\n",
       "  Followed_GTOA_Protocol Interaction_time Boat_Type Boat_Length  \\\n",
       "0                     No             0-10      Sail     10-12.5   \n",
       "1                    Yes             0-10      Sail     12.5-15   \n",
       "2                     No             0-10      Sail     12.5-15   \n",
       "3                    Yes            10-30      Sail         15+   \n",
       "4                    Yes             0-10      Sail     12.5-15   \n",
       "\n",
       "  Towing_Inflatable Trailing_Fishing_Lure  ... Distance_Off_Land_NM  \\\n",
       "0                No                    No  ...              Over 10   \n",
       "1                No                    No  ...                2 - 5   \n",
       "2                No                    No  ...                2 - 5   \n",
       "3                No                   Yes  ...              Over 10   \n",
       "4                No                    No  ...               5 - 10   \n",
       "\n",
       "   Depth_Meters  Depth_Gauge  Autopilot Hull_Topsides_Color Antifoul_Color  \\\n",
       "0         200m+           On         On         White/light           Blue   \n",
       "1     40 - 200m           On         On         White/light          Black   \n",
       "2     40 - 200m           On         On         White/light          Other   \n",
       "3         200m+          Off        Off         White/light          Black   \n",
       "4     40 - 200m           On         On         White/light          Black   \n",
       "\n",
       "                                 Boat_Damaged Tow_Required  \\\n",
       "0                                          No           No   \n",
       "1  Yes, moderate - immediate repairs required           No   \n",
       "2  Yes, moderate - immediate repairs required           No   \n",
       "3  Yes, moderate - immediate repairs required           No   \n",
       "4  Yes, moderate - immediate repairs required          Yes   \n",
       "\n",
       "                                       Crew_Response  \\\n",
       "0  Orca interaction at 10:15pm on 01/11, 40 miles...   \n",
       "1  We had sandbags on our sugar scoops and metal ...   \n",
       "2  We saw the orca approach from 10 o’clock posit...   \n",
       "3  Les trois orques passent constamment de bâbord...   \n",
       "4  Arrêt du pilote automatique a la 2 eme interac...   \n",
       "\n",
       "                                     Orcas_Behaviour  \n",
       "0  I would describe the behaviour of the Orca dur...  \n",
       "1      Juveniles hitting the rudders adults close by  \n",
       "2  There was an initial approach 45 minutes earli...  \n",
       "3  Pas de comportement visblement agressif./// No...  \n",
       "4  Approche furtive à la première interaction dir...  \n",
       "\n",
       "[5 rows x 31 columns]"
      ]
     },
     "execution_count": 12,
     "metadata": {},
     "output_type": "execute_result"
    }
   ],
   "source": [
    "df_full = pd.read_csv('../data/full_data.csv')\n",
    "df_full.head()"
   ]
  },
  {
   "cell_type": "code",
   "execution_count": 13,
   "metadata": {},
   "outputs": [
    {
     "name": "stdout",
     "output_type": "stream",
     "text": [
      "<class 'pandas.core.frame.DataFrame'>\n",
      "RangeIndex: 153 entries, 0 to 152\n",
      "Data columns (total 31 columns):\n",
      " #   Column                         Non-Null Count  Dtype  \n",
      "---  ------                         --------------  -----  \n",
      " 0   Unnamed: 0                     153 non-null    int64  \n",
      " 1   date                           153 non-null    object \n",
      " 2   Latitude                       153 non-null    float64\n",
      " 3   Longitude                      153 non-null    float64\n",
      " 4   Followed_GTOA_Protocol         153 non-null    object \n",
      " 5   Interaction_time               153 non-null    object \n",
      " 6   Boat_Type                      153 non-null    object \n",
      " 7   Boat_Length                    153 non-null    object \n",
      " 8   Towing_Inflatable              153 non-null    object \n",
      " 9   Trailing_Fishing_Lure          153 non-null    object \n",
      " 10  Physical_Contact_With_Boat     153 non-null    object \n",
      " 11  Number_of_Adult_Orcas          153 non-null    int64  \n",
      " 12  Number_of_Juvenile_Orcas       153 non-null    int64  \n",
      " 13  Number_of_Uncertain_Age_Orcas  153 non-null    int64  \n",
      " 14  Rudder                         153 non-null    object \n",
      " 15  Motoring_or_Sailing            153 non-null    object \n",
      " 16  Speed_Knots                    153 non-null    object \n",
      " 17  Sea_State                      153 non-null    object \n",
      " 18  Wind_Speed_Beaufort            153 non-null    object \n",
      " 19  Daylight_or_Darkness           153 non-null    object \n",
      " 20  Cloud_Cover                    153 non-null    object \n",
      " 21  Distance_Off_Land_NM           153 non-null    object \n",
      " 22  Depth_Meters                   153 non-null    object \n",
      " 23  Depth_Gauge                    153 non-null    object \n",
      " 24  Autopilot                      153 non-null    object \n",
      " 25  Hull_Topsides_Color            153 non-null    object \n",
      " 26  Antifoul_Color                 153 non-null    object \n",
      " 27  Boat_Damaged                   153 non-null    object \n",
      " 28  Tow_Required                   153 non-null    object \n",
      " 29  Crew_Response                  153 non-null    object \n",
      " 30  Orcas_Behaviour                153 non-null    object \n",
      "dtypes: float64(2), int64(4), object(25)\n",
      "memory usage: 37.2+ KB\n"
     ]
    }
   ],
   "source": [
    "df_full.info()"
   ]
  },
  {
   "cell_type": "code",
   "execution_count": 17,
   "metadata": {},
   "outputs": [
    {
     "name": "stdout",
     "output_type": "stream",
     "text": [
      "<class 'pandas.core.frame.DataFrame'>\n",
      "RangeIndex: 153 entries, 0 to 152\n",
      "Data columns (total 31 columns):\n",
      " #   Column                         Non-Null Count  Dtype         \n",
      "---  ------                         --------------  -----         \n",
      " 0   indice                         153 non-null    int64         \n",
      " 1   date                           153 non-null    datetime64[ms]\n",
      " 2   Latitude                       153 non-null    float64       \n",
      " 3   Longitude                      153 non-null    float64       \n",
      " 4   Followed_GTOA_Protocol         153 non-null    object        \n",
      " 5   Interaction_time               153 non-null    object        \n",
      " 6   Boat_Type                      153 non-null    object        \n",
      " 7   Boat_Length                    153 non-null    object        \n",
      " 8   Towing_Inflatable              153 non-null    object        \n",
      " 9   Trailing_Fishing_Lure          153 non-null    object        \n",
      " 10  Physical_Contact_With_Boat     153 non-null    object        \n",
      " 11  Number_of_Adult_Orcas          153 non-null    int64         \n",
      " 12  Number_of_Juvenile_Orcas       153 non-null    int64         \n",
      " 13  Number_of_Uncertain_Age_Orcas  153 non-null    int64         \n",
      " 14  Rudder                         153 non-null    object        \n",
      " 15  Motoring_or_Sailing            153 non-null    object        \n",
      " 16  Speed_Knots                    153 non-null    object        \n",
      " 17  Sea_State                      153 non-null    object        \n",
      " 18  Wind_Speed_Beaufort            153 non-null    object        \n",
      " 19  Daylight_or_Darkness           153 non-null    object        \n",
      " 20  Cloud_Cover                    153 non-null    object        \n",
      " 21  Distance_Off_Land_NM           153 non-null    object        \n",
      " 22  Depth_Meters                   153 non-null    object        \n",
      " 23  Depth_Gauge                    153 non-null    object        \n",
      " 24  Autopilot                      153 non-null    object        \n",
      " 25  Hull_Topsides_Color            153 non-null    object        \n",
      " 26  Antifoul_Color                 153 non-null    object        \n",
      " 27  Boat_Damaged                   153 non-null    object        \n",
      " 28  Tow_Required                   153 non-null    object        \n",
      " 29  Crew_Response                  153 non-null    object        \n",
      " 30  Orcas_Behaviour                153 non-null    object        \n",
      "dtypes: datetime64[ms](1), float64(2), int64(4), object(24)\n",
      "memory usage: 37.2+ KB\n"
     ]
    }
   ],
   "source": [
    "# En el anterior notebook añadimos a propósito el índice de cada fila con intención de hacerlo el Primary Key de cada interacción. Vamos a ponerle de titulo 'Indice':\n",
    "df_full.rename(columns={'Indice': 'indice'}, inplace=True)\n",
    "df_full.info()"
   ]
  },
  {
   "cell_type": "code",
   "execution_count": 18,
   "metadata": {},
   "outputs": [
    {
     "name": "stdout",
     "output_type": "stream",
     "text": [
      "datetime64[ms]\n"
     ]
    }
   ],
   "source": [
    "# Volvemos a cambiar la fecha a datetime, parece que al guardar a csv y cargar el dataframe de nuevo, se desconfigura este datatype:\n",
    "df_full.date = df_full.date.astype('datetime64[ms]')\n",
    "print(df_full.date.dtype)"
   ]
  },
  {
   "cell_type": "markdown",
   "metadata": {},
   "source": [
    "#### Creación de la tabla dentro de la BBDD"
   ]
  },
  {
   "cell_type": "code",
   "execution_count": 20,
   "metadata": {},
   "outputs": [
    {
     "data": {
      "text/plain": [
       "Followed_GTOA_Protocol           7\n",
       "Interaction_time                 7\n",
       "Boat_Type                       14\n",
       "Boat_Length                      7\n",
       "Towing_Inflatable                7\n",
       "Trailing_Fishing_Lure            7\n",
       "Physical_Contact_With_Boat       7\n",
       "Rudder                          11\n",
       "Motoring_or_Sailing             12\n",
       "Speed_Knots                      7\n",
       "Sea_State                        8\n",
       "Wind_Speed_Beaufort             21\n",
       "Daylight_or_Darkness             5\n",
       "Cloud_Cover                      9\n",
       "Distance_Off_Land_NM             7\n",
       "Depth_Meters                     9\n",
       "Depth_Gauge                      7\n",
       "Autopilot                        7\n",
       "Hull_Topsides_Color             11\n",
       "Antifoul_Color                  10\n",
       "Boat_Damaged                    50\n",
       "Tow_Required                     7\n",
       "Crew_Response                 6163\n",
       "Orcas_Behaviour               1633\n",
       "dtype: int64"
      ]
     },
     "execution_count": 20,
     "metadata": {},
     "output_type": "execute_result"
    }
   ],
   "source": [
    "# Como debo definir el tipo de dato de cada columna, me gustaría calcular la longitud máxima de caracteres de cada una de las columnas que tengan datos de tipo objeto.\n",
    "\n",
    "# Lo hago a continuación:\n",
    "\n",
    "max_lengths = df_full.select_dtypes(include='object').apply(lambda col: col.astype(str).apply(len).max())\n",
    "max_lengths"
   ]
  },
  {
   "cell_type": "markdown",
   "metadata": {},
   "source": [
    "* Como se puede ver, debido a la limpieza llevada a cabo en pasos anteriores la mayoría de columnas tienen un número de caracteres reducida, a salvedad de los comentarios de la tripulación."
   ]
  },
  {
   "cell_type": "code",
   "execution_count": 22,
   "metadata": {},
   "outputs": [],
   "source": [
    "c('drop table if exists interactions;')\n",
    "\n",
    "query ='''\n",
    "\n",
    "create table interactions(\n",
    "    indice int primary key not null,\n",
    "    date datetime,\n",
    "    Latitude float,\n",
    "    Longitude float,\n",
    "    Followed_GTOA_Protocol varchar(10),\n",
    "    Interaction_time varchar(10),\n",
    "    Boat_Type varchar(15),\n",
    "    Boat_Length varchar(10),\n",
    "    Towing_Inflatable varchar(10),\n",
    "    Trailing_Fishing_Lure varchar(10),\n",
    "    Physical_Contact_With_Boat varchar(10),\n",
    "    Number_of_Adult_Orcas int,\n",
    "    Number_of_Juvenile_Orcas int,\n",
    "    Number_of_Uncertain_Age_Orcas int,\n",
    "    Rudder varchar(15),\n",
    "    Motoring_or_Sailing varchar(15),\n",
    "    Speed_Knots varchar(10),\n",
    "    Sea_State varchar(10),\n",
    "    Wind_Speed_Beaufort varchar(25),\n",
    "    Daylight_or_Darkness varchar(10),\n",
    "    Cloud_Cover varchar(10),\n",
    "    Distance_Off_Land_NM varchar(10),\n",
    "    Depth_Meters varchar(15),\n",
    "    Depth_Gauge varchar(10),\n",
    "    Autopilot varchar(10),\n",
    "    Hull_Topsides_Color varchar(15),\n",
    "    Antifoul_Color varchar(15),\n",
    "    Boat_Damaged varchar(60),\n",
    "    Tow_Required varchar(10),\n",
    "    Crew_Response varchar(6200),\n",
    "    Orcas_Behaviour varchar(1700)\n",
    "    );\n",
    "'''\n",
    "\n",
    "c(query)\n"
   ]
  },
  {
   "cell_type": "markdown",
   "metadata": {},
   "source": [
    "#### Carga de la Tabla con nuestros datos\n",
    "Tenemos la tabla con sus columnas y respectivos tipos de dato cargados. Pasamos a rellenar la tabla con nuestra dataframe."
   ]
  },
  {
   "cell_type": "code",
   "execution_count": 23,
   "metadata": {},
   "outputs": [],
   "source": [
    "nombre_tabla = 'interactions'\n",
    "nombre_columnas = ','.join(df_full.columns) # creo una string\n",
    "\n",
    "# Bucle por filas y voy insertando en la tabla interactions de mi BBDD orcas\n",
    "for i in range(df_full.shape[0]):\n",
    "    valores = tuple(df_full.iloc[i].values)\n",
    "\n",
    "    insert_query = f'insert into {nombre_tabla} ({nombre_columnas}) values {valores}'\n",
    "\n",
    "    cursor.execute(insert_query)"
   ]
  },
  {
   "cell_type": "code",
   "execution_count": 24,
   "metadata": {},
   "outputs": [
    {
     "data": {
      "text/plain": [
       "\"insert into interactions (indice,date,Latitude,Longitude,Followed_GTOA_Protocol,Interaction_time,Boat_Type,Boat_Length,Towing_Inflatable,Trailing_Fishing_Lure,Physical_Contact_With_Boat,Number_of_Adult_Orcas,Number_of_Juvenile_Orcas,Number_of_Uncertain_Age_Orcas,Rudder,Motoring_or_Sailing,Speed_Knots,Sea_State,Wind_Speed_Beaufort,Daylight_or_Darkness,Cloud_Cover,Distance_Off_Land_NM,Depth_Meters,Depth_Gauge,Autopilot,Hull_Topsides_Color,Antifoul_Color,Boat_Damaged,Tow_Required,Crew_Response,Orcas_Behaviour) values (152, Timestamp('2022-06-24 12:50:00'), 36.833333333333336, -8.916666666666666, 'No', '0-10', 'Sail', '10-12.5', 'No', 'Unknown', 'Unknown', 1, 1, 0, 'Spade', 'Sailing', '5 - 7', 'Calm', '3 - 4 (7 - 16 knots)', 'Day', '0 - 25%', 'Over 10', '200m+', 'On', 'On', 'White/light', 'Blue', 'No', 'No', 'The two orcas were nearby a buoy and as soon as they saw us, they came like a bullet. We stopped the boat and started the engine on reverse at full power. After 10 minutes hitting the boat very strongly, they ran away without damaging the rudder.', 'The two orcas (one of 6 meters and other of 3-4 meters) bumped the hull of the boat during 10 minutes and then swam away.')\""
      ]
     },
     "execution_count": 24,
     "metadata": {},
     "output_type": "execute_result"
    }
   ],
   "source": [
    "insert_query"
   ]
  },
  {
   "cell_type": "code",
   "execution_count": 25,
   "metadata": {},
   "outputs": [
    {
     "name": "stdout",
     "output_type": "stream",
     "text": [
      "(0, datetime.datetime(2023, 11, 1, 22, 15), 32.7916, -9.90663, 'No', '0-10', 'Sail', '10-12.5', 'No', 'No', 'No', 1, 0, 0, 'Spade', 'Sailing', '5 - 7', 'Moderate', '5 - 6 (17 - 27 knots)', 'Night', '0 - 25%', 'Over 10', '200m+', 'On', 'On', 'White/light', 'Blue', 'No', 'No', \"Orca interaction at 10:15pm on 01/11, 40 miles off the coast of Safi, on passage from Tangier to the Canary Islands. We were relaxing in the cockpit with a podcast playing quite loudly on a portable speaker. It was pitch black as the moon had not yet risen. A lone adult orca (to our knowledge) approached our yacht (Beneteau Oceanis 411) and surfaced about half a metre from our stern. We were only alerted to it's presence when it's blowhole spouted, roughly 0.5 metres off the left side of our stern, right next to our navigation light. It was so close to us that the water from its blowhole hit our chart plotter. We stood up to inspect and saw 1 very large (adult) Orca. We scrambled to grab our foghorn, and 2 x firecrackers that had been passed on to us by fellow sailors. We put on our lifejackets and deployed 1 firecracker into the water, around 1-2 minutes later. We then quickly turned our engine on and motor sailed ahead at full speed, bracing for impact. Luckily, the boat was not hit at all. We motored for around 1 hour before deciding that the coast was clear. There may have been more orcas, but we could not see because it was too dark.\", 'I would describe the behaviour of the Orca during this interaction as placid and curious. I think that it was possibly drawn to us because of our stern light, and perhaps the sound of the autopilot and the loud voices from the podcast being broadcast through our speaker. It did not display any aggressive behaviour, and the fact that it surfaced so close to our stern light indicates to me that it was just curiously checking us out. Given that we were taken completely by surprise, it took us a good few minutes to deploy our deterrent tactics. It would have been only a few metres away from our rudder, and could have easily attacked us if it wanted to.')\n",
      "(1, datetime.datetime(2023, 10, 31, 7, 50), 39.4333, -9.38333, 'Yes', '0-10', 'Sail', '12.5-15', 'No', 'No', 'Yes', 2, 5, 0, 'Twin rudder', 'Motoring', '5 - 7', 'Rough', '3 - 4 (7 - 16 knots)', 'Day', '50 - 75%', '2 - 5', '40 - 200m', 'On', 'On', 'White/light', 'Black', 'Yes, moderate - immediate repairs required', 'No', 'We had sandbags on our sugar scoops and metal poles to bang together. First thing we felt two bangs, auto pilot off engines in neutral. Saw the orca then started dropping cups of sand into the water off the stern. Adults seemed to be close by but all interactions to the boat were juveniles.', 'Juveniles hitting the rudders adults close by')\n"
     ]
    }
   ],
   "source": [
    "# Comprobamos\n",
    "\n",
    "cursor.execute('select * from interactions limit 2;')\n",
    "\n",
    "for x in cursor:\n",
    "    print(x)"
   ]
  },
  {
   "cell_type": "code",
   "execution_count": 26,
   "metadata": {},
   "outputs": [
    {
     "name": "stdout",
     "output_type": "stream",
     "text": [
      "(153,)\n"
     ]
    }
   ],
   "source": [
    "# Comprobamos tamaño\n",
    "\n",
    "cursor.execute('select count(*) from interactions;')\n",
    "\n",
    "for x in cursor:\n",
    "    print(x)"
   ]
  },
  {
   "cell_type": "markdown",
   "metadata": {},
   "source": [
    "Ya tenemos la BBDD creada en Workbench y hemos creado dentro de ella una tabla con la información de las interacciones."
   ]
  },
  {
   "cell_type": "markdown",
   "metadata": {},
   "source": []
  }
 ],
 "metadata": {
  "kernelspec": {
   "display_name": "finalproject",
   "language": "python",
   "name": "python3"
  },
  "language_info": {
   "codemirror_mode": {
    "name": "ipython",
    "version": 3
   },
   "file_extension": ".py",
   "mimetype": "text/x-python",
   "name": "python",
   "nbconvert_exporter": "python",
   "pygments_lexer": "ipython3",
   "version": "3.10.13"
  }
 },
 "nbformat": 4,
 "nbformat_minor": 2
}
