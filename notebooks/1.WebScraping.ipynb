{
 "cells": [
  {
   "cell_type": "markdown",
   "metadata": {},
   "source": [
    "#### 1. Obtención base de datos - Web Scraping"
   ]
  },
  {
   "cell_type": "code",
   "execution_count": 1,
   "metadata": {},
   "outputs": [],
   "source": [
    "import pandas as pd\n",
    "from selenium.webdriver.chrome.options import Options\n",
    "from webdriver_manager.chrome import ChromeDriverManager\n",
    "\n",
    "#driver configuration\n",
    "opciones=Options()\n",
    "\n",
    "opciones.add_experimental_option('excludeSwitches', ['enable-automation'])\n",
    "opciones.add_experimental_option('useAutomationExtension', False)\n",
    "opciones.headless=False    # si True, no aperece la ventana (headless=no visible)\n",
    "opciones.add_argument('--start-maximized')         # comienza maximizado\n",
    "#opciones.add_argument('user-data-dir=selenium')    # mantiene las cookies\n",
    "#opciones.add_extension('driver_folder/adblock.crx')       # adblocker\n",
    "opciones.add_argument('--incognito')\n",
    "from selenium.webdriver.common.by import By\n",
    "from IPython.display import Image # Para mostrar imágenes en python\n",
    "from bs4 import BeautifulSoup as bs\n",
    "import time\n",
    "from selenium.webdriver.common.keys import Keys\n",
    "from selenium.webdriver.common.action_chains import ActionChains\n",
    "\n",
    "pd.set_option('display.max_columns', None)"
   ]
  },
  {
   "cell_type": "code",
   "execution_count": 2,
   "metadata": {},
   "outputs": [
    {
     "name": "stderr",
     "output_type": "stream",
     "text": [
      "Cache folder (C:\\Users\\jacom\\.cache\\selenium) cannot be created: No se puede crear un archivo que ya existe. (os error 183)\n",
      "Cache folder (C:\\Users\\jacom\\.cache\\selenium) cannot be created: No se puede crear un archivo que ya existe. (os error 183)\n"
     ]
    }
   ],
   "source": [
    "from selenium import webdriver\n",
    "PATH = 'driver/chromedriver.exe'\n",
    "driver = webdriver.Chrome()"
   ]
  },
  {
   "cell_type": "code",
   "execution_count": 3,
   "metadata": {},
   "outputs": [],
   "source": [
    "# Definimos URL de búsqueda\n",
    "url = 'https://www.theca.org.uk/orcas/reports'"
   ]
  },
  {
   "cell_type": "code",
   "execution_count": 4,
   "metadata": {},
   "outputs": [],
   "source": [
    "driver.get(url)"
   ]
  },
  {
   "cell_type": "code",
   "execution_count": 5,
   "metadata": {},
   "outputs": [],
   "source": [
    "driver.find_element(By.XPATH, '/html/body/div[5]/div/div/div[2]/button[2]').click() # Clickamos en \"No cookies, thanks\""
   ]
  },
  {
   "cell_type": "code",
   "execution_count": 6,
   "metadata": {},
   "outputs": [
    {
     "data": {
      "text/plain": [
       "155"
      ]
     },
     "execution_count": 6,
     "metadata": {},
     "output_type": "execute_result"
    }
   ],
   "source": [
    "# Voy a contar la cantidad de casos que hay para luego saber cuanto buclear\n",
    "time.sleep(1)\n",
    "casos_text = driver.find_element(By.XPATH, '/html/body/div[3]/div/section/div/section/div/div[5]/div/div/div/div[2]/div/div/div[1]/div/div[1]').text\n",
    "casos_number = int(casos_text.split('(')[1].split(')')[0])\n",
    "casos_number\n"
   ]
  },
  {
   "cell_type": "code",
   "execution_count": 7,
   "metadata": {},
   "outputs": [],
   "source": [
    "# Clickamos en \"SHOW LIST\"\n",
    "time.sleep(2)\n",
    "driver.find_element(By.XPATH, '/html/body/div[3]/div/section/div/section/div/div[5]/div/div/div/div[2]/div/div/div[2]/div[2]/div[1]/strong').click()"
   ]
  },
  {
   "cell_type": "code",
   "execution_count": 8,
   "metadata": {},
   "outputs": [],
   "source": [
    "# Clickamos en primera pestaña con datos del caso más reciente\n",
    "time.sleep(1)\n",
    "driver.find_element(By.XPATH, '/html/body/div[3]/div/section/div/section/div/div[5]/div/div/div/div[2]/div/div/div[2]/div[4]/div[1]/p').click()\n"
   ]
  },
  {
   "cell_type": "code",
   "execution_count": 9,
   "metadata": {},
   "outputs": [],
   "source": [
    "# Defino una lista vacía donde voy a ir appendeando la fecha, lat. y long. y las respuestas de cada pregunta del cuestionario que responden los \n",
    "# skippers de cada embarcación que ha experienciado una interacción con una orca:\n",
    "questionnaire_list = []"
   ]
  },
  {
   "cell_type": "code",
   "execution_count": 10,
   "metadata": {},
   "outputs": [],
   "source": [
    "# Appendeo fecha\n",
    "questionnaire_list.append(driver.find_element(By.XPATH, '/html/body/div[3]/div/section/div/section/div/div[5]/div/div/div/div[2]/div/div/div[2]/div[2]/div[3]/div[3]/div[2]/p[4]').text)\n",
    "time.sleep(0.5)\n",
    "# Appendeo lat. y long. juntos\n",
    "questionnaire_list.append(driver.find_element(By.XPATH, '/html/body/div[3]/div/section/div/section/div/div[5]/div/div/div/div[2]/div/div/div[2]/div[2]/div[3]/div[3]/div[2]/p[5]').text)\n",
    "time.sleep(0.5)\n",
    "# Appendeo pregunta 1: GTOA Protocol\n",
    "questionnaire_list.append(driver.find_element(By.XPATH, '/html/body/div[3]/div/section/div/section/div/div[5]/div/div/div/div[2]/div/div/div[2]/div[2]/div[3]/div[3]/div[2]/p[7]').text)\n",
    "time.sleep(0.5)\n",
    "# Appendeo pregunta 2: Boat Type\n",
    "questionnaire_list.append(driver.find_element(By.XPATH, '/html/body/div[3]/div/section/div/section/div/div[5]/div/div/div/div[2]/div/div/div[2]/div[2]/div[3]/div[3]/div[2]/p[9]').text)\n",
    "time.sleep(0.5)\n",
    "# Appendeo pregunta 3: Boat length (metres)\n",
    "questionnaire_list.append(driver.find_element(By.XPATH, '/html/body/div[3]/div/section/div/section/div/div[5]/div/div/div/div[2]/div/div/div[2]/div[2]/div[3]/div[3]/div[2]/p[11]').text)\n",
    "time.sleep(0.5)\n",
    "# Appendeo pregunta 4: Towing an inflatable?\n",
    "questionnaire_list.append(driver.find_element(By.XPATH, '/html/body/div[3]/div/section/div/section/div/div[5]/div/div/div/div[2]/div/div/div[2]/div[2]/div[3]/div[3]/div[2]/p[13]').text)\n",
    "time.sleep(0.5)\n",
    "# Appendeo pregunta 5: Trailing fishing lure?\n",
    "questionnaire_list.append(driver.find_element(By.XPATH, '/html/body/div[3]/div/section/div/section/div/div[5]/div/div/div/div[2]/div/div/div[2]/div[2]/div[3]/div[3]/div[2]/p[15]').text)\n",
    "time.sleep(0.5)\n",
    "# Appendeo pregunta 6: Did orcas make physical contact with boat\n",
    "questionnaire_list.append(driver.find_element(By.XPATH, '/html/body/div[3]/div/section/div/section/div/div[5]/div/div/div/div[2]/div/div/div[2]/div[2]/div[3]/div[3]/div[2]/p[17]').text)\n",
    "time.sleep(0.5)\n",
    "# Appendeo pregunta 7: Number of adult orcas seen?\n",
    "questionnaire_list.append(driver.find_element(By.XPATH, '/html/body/div[3]/div/section/div/section/div/div[5]/div/div/div/div[2]/div/div/div[2]/div[2]/div[3]/div[3]/div[2]/p[19]').text)\n",
    "time.sleep(0.5)\n",
    "# Appendeo pregunta 8: Rudder type\n",
    "questionnaire_list.append(driver.find_element(By.XPATH, '/html/body/div[3]/div/section/div/section/div/div[5]/div/div/div/div[2]/div/div/div[2]/div[2]/div[3]/div[3]/div[2]/p[21]').text)\n",
    "time.sleep(0.5)\n",
    "# Appendeo pregunta 9: Motoring or sailing?\n",
    "questionnaire_list.append(driver.find_element(By.XPATH, '/html/body/div[3]/div/section/div/section/div/div[5]/div/div/div/div[2]/div/div/div[2]/div[2]/div[3]/div[3]/div[2]/p[23]').text)\n",
    "time.sleep(0.5)\n",
    "# Appendeo pregunta 10: Speed (knots)\n",
    "questionnaire_list.append(driver.find_element(By.XPATH, '/html/body/div[3]/div/section/div/section/div/div[5]/div/div/div/div[2]/div/div/div[2]/div[2]/div[3]/div[3]/div[2]/p[25]').text)\n",
    "time.sleep(0.5)\n",
    "# Appendeo pregunta 11: Sea state\n",
    "questionnaire_list.append(driver.find_element(By.XPATH, '/html/body/div[3]/div/section/div/section/div/div[5]/div/div/div/div[2]/div/div/div[2]/div[2]/div[3]/div[3]/div[2]/p[27]').text)\n",
    "time.sleep(0.5)\n",
    "# Appendeo pregunta 12: Wind Speed (Beaufort)\n",
    "questionnaire_list.append(driver.find_element(By.XPATH, '/html/body/div[3]/div/section/div/section/div/div[5]/div/div/div/div[2]/div/div/div[2]/div[2]/div[3]/div[3]/div[2]/p[29]').text)\n",
    "time.sleep(0.5)\n",
    "# Appendeo pregunta 13: Darkness or daylight\n",
    "questionnaire_list.append(driver.find_element(By.XPATH, '/html/body/div[3]/div/section/div/section/div/div[5]/div/div/div/div[2]/div/div/div[2]/div[2]/div[3]/div[3]/div[2]/p[31]').text)\n",
    "time.sleep(0.5)\n",
    "# Appendeo pregunta 14: Cloud cover\n",
    "questionnaire_list.append(driver.find_element(By.XPATH, '/html/body/div[3]/div/section/div/section/div/div[5]/div/div/div/div[2]/div/div/div[2]/div[2]/div[3]/div[3]/div[2]/p[33]').text)\n",
    "time.sleep(0.5)\n",
    "# Appendeo pregunta 15: Distance off land (nautical miles)\n",
    "questionnaire_list.append(driver.find_element(By.XPATH, '/html/body/div[3]/div/section/div/section/div/div[5]/div/div/div/div[2]/div/div/div[2]/div[2]/div[3]/div[3]/div[2]/p[35]').text)\n",
    "time.sleep(0.5)\n",
    "# Appendeo pregunta 16: Depth (metres)\n",
    "questionnaire_list.append(driver.find_element(By.XPATH, '/html/body/div[3]/div/section/div/section/div/div[5]/div/div/div/div[2]/div/div/div[2]/div[2]/div[3]/div[3]/div[2]/p[37]').text)\n",
    "time.sleep(0.5)\n",
    "# Appendeo pregunta 17:Depth gauge ON?\n",
    "questionnaire_list.append(driver.find_element(By.XPATH, '/html/body/div[3]/div/section/div/section/div/div[5]/div/div/div/div[2]/div/div/div[2]/div[2]/div[3]/div[3]/div[2]/p[39]').text)\n",
    "time.sleep(0.5)\n",
    "# Appendeo pregunta 18: Autopilot ON?\n",
    "questionnaire_list.append(driver.find_element(By.XPATH, '/html/body/div[3]/div/section/div/section/div/div[5]/div/div/div/div[2]/div/div/div[2]/div[2]/div[3]/div[3]/div[2]/p[41]').text)\n",
    "time.sleep(0.5)\n",
    "# Appendeo pregunta 19: Hull topside colour\n",
    "questionnaire_list.append(driver.find_element(By.XPATH, '/html/body/div[3]/div/section/div/section/div/div[5]/div/div/div/div[2]/div/div/div[2]/div[2]/div[3]/div[3]/div[2]/p[43]').text)\n",
    "time.sleep(0.5)\n",
    "# Appendeo pregunta 20: Antifoul colour\n",
    "questionnaire_list.append(driver.find_element(By.XPATH, '/html/body/div[3]/div/section/div/section/div/div[5]/div/div/div/div[2]/div/div/div[2]/div[2]/div[3]/div[3]/div[2]/p[45]').text)\n",
    "time.sleep(0.5)\n",
    "# Appendeo pregunta 21: Was the boat damaged and in need of a repair?\n",
    "questionnaire_list.append(driver.find_element(By.XPATH, '/html/body/div[3]/div/section/div/section/div/div[5]/div/div/div/div[2]/div/div/div[2]/div[2]/div[3]/div[3]/div[2]/p[47]').text)\n",
    "time.sleep(0.5)\n",
    "# Appendeo pregunta 22: Tow required\n",
    "questionnaire_list.append(driver.find_element(By.XPATH, '/html/body/div[3]/div/section/div/section/div/div[5]/div/div/div/div[2]/div/div/div[2]/div[2]/div[3]/div[3]/div[2]/p[49]').text)\n",
    "time.sleep(0.5)\n",
    "# Appendeo pregunta 23: Crew response\n",
    "questionnaire_list.append(driver.find_element(By.XPATH, '/html/body/div[3]/div/section/div/section/div/div[5]/div/div/div/div[2]/div/div/div[2]/div[2]/div[3]/div[3]/div[2]/p[51]').text)\n",
    "time.sleep(0.5)\n",
    "# Appendeo pregunta 24: Orca behaviour\n",
    "questionnaire_list.append(driver.find_element(By.XPATH, '/html/body/div[3]/div/section/div/section/div/div[5]/div/div/div/div[2]/div/div/div[2]/div[2]/div[3]/div[3]/div[2]/p[53]').text)\n",
    "time.sleep(0.5)\n",
    "# Appendeo pregunta 25: Stage of day\n",
    "questionnaire_list.append(driver.find_element(By.XPATH, '/html/body/div[3]/div/section/div/section/div/div[5]/div/div/div/div[2]/div/div/div[2]/div[2]/div[3]/div[3]/div[2]/p[55]').text)\n",
    "time.sleep(0.5)\n",
    "# Appendeo pregunta 26: Tide\n",
    "questionnaire_list.append(driver.find_element(By.XPATH, '/html/body/div[3]/div/section/div/section/div/div[5]/div/div/div/div[2]/div/div/div[2]/div[2]/div[3]/div[3]/div[2]/p[59]').text)"
   ]
  },
  {
   "cell_type": "code",
   "execution_count": 11,
   "metadata": {},
   "outputs": [
    {
     "data": {
      "text/plain": [
       "['2023-11-01 22:15:00',\n",
       " '32 47.4980 N, 9 54.3980 W',\n",
       " 'No, did not follow protocol, interaction lasted less than 10 minutes',\n",
       " 'Sail',\n",
       " '10 - 12.5m',\n",
       " 'Not towing',\n",
       " 'No',\n",
       " 'No',\n",
       " '1',\n",
       " 'Spade',\n",
       " 'Sailing',\n",
       " '5 - 7',\n",
       " 'Moderate',\n",
       " '5 - 6 (17 - 27 knots)',\n",
       " 'Night',\n",
       " '0 - 25%',\n",
       " 'Over 10',\n",
       " '200m+',\n",
       " 'On',\n",
       " 'On',\n",
       " 'White/light',\n",
       " 'Blue',\n",
       " 'No',\n",
       " 'No',\n",
       " \"Orca interaction at 10:15pm on 01/11, 40 miles off the coast of Safi, on passage from Tangier to the Canary Islands. We were relaxing in the cockpit with a podcast playing quite loudly on a portable speaker. It was pitch black as the moon had not yet risen. A lone adult orca (to our knowledge) approached our yacht (Beneteau Oceanis 411) and surfaced about half a metre from our stern. We were only alerted to it's presence when it's blowhole spouted, roughly 0.5 metres off the left side of our stern, right next to our navigation light. It was so close to us that the water from its blowhole hit our chart plotter. We stood up to inspect and saw 1 very large (adult) Orca. We scrambled to grab our foghorn, and 2 x firecrackers that had been passed on to us by fellow sailors. We put on our lifejackets and deployed 1 firecracker into the water, around 1-2 minutes later. We then quickly turned our engine on and motor sailed ahead at full speed, bracing for impact. Luckily, the boat was not hit at all. We motored for around 1 hour before deciding that the coast was clear. There may have been more orcas, but we could not see because it was too dark.\",\n",
       " 'I would describe the behaviour of the Orca during this interaction as placid and curious. I think that it was possibly drawn to us because of our stern light, and perhaps the sound of the autopilot and the loud voices from the podcast being broadcast through our speaker. It did not display any aggressive behaviour, and the fact that it surfaced so close to our stern light indicates to me that it was just curiously checking us out. Given that we were taken completely by surprise, it took us a good few minutes to deploy our deterrent tactics. It would have been only a few metres away from our rudder, and could have easily attacked us if it wanted to.',\n",
       " 'undefined',\n",
       " 'Within 3 days of spring tide']"
      ]
     },
     "execution_count": 11,
     "metadata": {},
     "output_type": "execute_result"
    }
   ],
   "source": [
    "questionnaire_list"
   ]
  },
  {
   "cell_type": "markdown",
   "metadata": {},
   "source": [
    "* Vale guay, tengo una lista que compondría el valor de cada una de las columnas para la primera fila - la última interacción orca-barco.\n",
    "\n",
    "* Ahora el objetivo de esto sería meter las 26 respuestas a una lista dentro de un bucle , y que cada paso por bucle rellene una lista. El bucle se repetirá tantas veces como interacciones de orca haya."
   ]
  },
  {
   "cell_type": "code",
   "execution_count": 13,
   "metadata": {},
   "outputs": [],
   "source": [
    "# Voy a comprobar a ver si puedo buclear por las tabs de cada interacción:\n",
    "\n",
    "# Cerramos caso actual\n",
    "time.sleep(1)\n",
    "driver.find_element(By.XPATH, '/html/body/div[3]/div/section/div/section/div/div[5]/div/div/div/div[2]/div/div/div[2]/div[2]/div[3]/div[3]/div[1]/span[1]').click()\n"
   ]
  },
  {
   "cell_type": "code",
   "execution_count": 14,
   "metadata": {},
   "outputs": [
    {
     "name": "stdout",
     "output_type": "stream",
     "text": [
      "Acabo de abrir tab\n",
      "Simulo que estoy leyendo info y cierro tab\n",
      "Acabo de abrir tab\n",
      "Simulo que estoy leyendo info y cierro tab\n",
      "Acabo de abrir tab\n",
      "Simulo que estoy leyendo info y cierro tab\n"
     ]
    }
   ],
   "source": [
    "# Como ya hemos calculado previamente cuantos casos de interaccion tenemos realmente, ya sé cuando va a estar bucleando\n",
    "# y leyendo respuestas del cuestionario\n",
    "\n",
    "# Pruebo a buclear a traves de todas las tabs, son 155 así que puede llevar un rato:\n",
    "for i in range(1, 4, 1):\n",
    "    time.sleep(1)\n",
    "    driver.find_element(By.XPATH, f'/html/body/div[3]/div/section/div/section/div/div[5]/div/div/div/div[2]/div/div/div[2]/div[4]/div[{i}]/p').click()\n",
    "    print('Acabo de abrir tab')\n",
    "    time.sleep(1)\n",
    "    print('Simulo que estoy leyendo info y cierro tab')\n",
    "    time.sleep(1)\n",
    "    driver.find_element(By.XPATH, '/html/body/div[3]/div/section/div/section/div/div[5]/div/div/div/div[2]/div/div/div[2]/div[2]/div[3]/div[3]/div[1]/span[1]').click()\n"
   ]
  },
  {
   "cell_type": "markdown",
   "metadata": {},
   "source": [
    "* Ya sé como iterar a través de todas las tabs, solo habría que cambiar el segundo elemento del range(a, b, c) por el cantidad de interacciones que haya en la web, valor que ya se calcula automáticamente previamente.\n",
    "\n",
    "* Ahora vamos a pasar a pensar como ir pasando cada lista a un database en workbench, mongoDB o a un csv incluso."
   ]
  },
  {
   "cell_type": "code",
   "execution_count": 15,
   "metadata": {},
   "outputs": [
    {
     "data": {
      "text/html": [
       "<div>\n",
       "<style scoped>\n",
       "    .dataframe tbody tr th:only-of-type {\n",
       "        vertical-align: middle;\n",
       "    }\n",
       "\n",
       "    .dataframe tbody tr th {\n",
       "        vertical-align: top;\n",
       "    }\n",
       "\n",
       "    .dataframe thead th {\n",
       "        text-align: right;\n",
       "    }\n",
       "</style>\n",
       "<table border=\"1\" class=\"dataframe\">\n",
       "  <thead>\n",
       "    <tr style=\"text-align: right;\">\n",
       "      <th></th>\n",
       "      <th>date</th>\n",
       "      <th>lat_and_long</th>\n",
       "      <th>GTOA_Protocol</th>\n",
       "      <th>Boat_Type</th>\n",
       "      <th>Boat_Length</th>\n",
       "      <th>Towing_Inflatable</th>\n",
       "      <th>Trailing_Fishing_Lure</th>\n",
       "      <th>Physical_Contact_With_Boat</th>\n",
       "      <th>Number_of_Adult_Orcas</th>\n",
       "      <th>Rudder</th>\n",
       "      <th>Motoring_or_Sailing</th>\n",
       "      <th>Speed_Knots</th>\n",
       "      <th>Sea_State</th>\n",
       "      <th>Wind_Speed_Beaufort</th>\n",
       "      <th>Daylight_or_Darkness</th>\n",
       "      <th>Cloud_Cover</th>\n",
       "      <th>Distance_Off_Land_NM</th>\n",
       "      <th>Depth_Meters</th>\n",
       "      <th>Depth_Gauge</th>\n",
       "      <th>Autopilot</th>\n",
       "      <th>Hull_Topsides_Color</th>\n",
       "      <th>Antifoul_Color</th>\n",
       "      <th>Boat_Damaged</th>\n",
       "      <th>Tow_Required</th>\n",
       "      <th>Crew_Response</th>\n",
       "      <th>Orcas_Behaviour</th>\n",
       "    </tr>\n",
       "  </thead>\n",
       "  <tbody>\n",
       "  </tbody>\n",
       "</table>\n",
       "</div>"
      ],
      "text/plain": [
       "Empty DataFrame\n",
       "Columns: [date, lat_and_long, GTOA_Protocol, Boat_Type, Boat_Length, Towing_Inflatable, Trailing_Fishing_Lure, Physical_Contact_With_Boat, Number_of_Adult_Orcas, Rudder, Motoring_or_Sailing, Speed_Knots, Sea_State, Wind_Speed_Beaufort, Daylight_or_Darkness, Cloud_Cover, Distance_Off_Land_NM, Depth_Meters, Depth_Gauge, Autopilot, Hull_Topsides_Color, Antifoul_Color, Boat_Damaged, Tow_Required, Crew_Response, Orcas_Behaviour]\n",
       "Index: []"
      ]
     },
     "execution_count": 15,
     "metadata": {},
     "output_type": "execute_result"
    }
   ],
   "source": [
    "# Defino en primer lugar el dataframe con las columnas de interés:\n",
    "columnas = [\"date\", \"lat_and_long\", \"GTOA_Protocol\", \"Boat_Type\", \"Boat_Length\", \"Towing_Inflatable\", \"Trailing_Fishing_Lure\",\n",
    "           \"Physical_Contact_With_Boat\", \"Number_of_Adult_Orcas\", \"Rudder\", \"Motoring_or_Sailing\",\n",
    "           \"Speed_Knots\", \"Sea_State\", \"Wind_Speed_Beaufort\", \"Daylight_or_Darkness\", \"Cloud_Cover\",\n",
    "           \"Distance_Off_Land_NM\", \"Depth_Meters\", \"Depth_Gauge\", \"Autopilot\", \"Hull_Topsides_Color\",\n",
    "           \"Antifoul_Color\", \"Boat_Damaged\", \"Tow_Required\", \"Crew_Response\", \"Orcas_Behaviour\"]\n",
    "\n",
    "df = pd.DataFrame(columns=columnas)\n",
    "df.head()"
   ]
  },
  {
   "cell_type": "markdown",
   "metadata": {},
   "source": [
    "* Llegados a este punto llegamos a la problemática de recoger los datos, y meterlos en un dataframe\n",
    "\n",
    "* Un pregunta que afecta a la estructura de las preguntas y respuestas es la cantidad y edad de orcas que se observaron en la interacción. Se pregunta en la cuestión 7 cuantas orcas adultas se vieron, cuantas juveniles y/o cuantas de edad desconocida. El problema viene cuando se dejan en blanco alguna de la casilla por lo que jugamos con las siguientes opciones:\n",
    "1) Adultas | NO Juveniles | NO Desconocidas\n",
    "2) Adultas | Juveniles | NO Desconocidas\n",
    "3) Adultas | NO Juveniles | Desconocidas\n",
    "4) Adultas | Juveniles | Desconocidas\n",
    "5) NO Adultas | Juveniles | NO Desconocidas\n",
    "6) NO Adultas | Juveniles | Desconocidas\n",
    "7) NO Adultas | NO Juveniles | Desconocidas\n",
    "\n",
    "Va a tocar hacer los 7 casos y para ello se hará uso de varios if - elif() y posiblemente de una llamada a una función previamente definida."
   ]
  },
  {
   "cell_type": "code",
   "execution_count": 16,
   "metadata": {},
   "outputs": [
    {
     "name": "stdout",
     "output_type": "stream",
     "text": [
      "Acabo de abrir tab\n",
      "Simulo que estoy leyendo info y cierro tab\n",
      "Acabo de abrir tab\n",
      "Simulo que estoy leyendo info y cierro tab\n",
      "Acabo de abrir tab\n",
      "Simulo que estoy leyendo info y cierro tab\n"
     ]
    }
   ],
   "source": [
    "for i in range(1, 4, 1):\n",
    "    \n",
    "    # Abro tab\n",
    "    time.sleep(1)\n",
    "    driver.find_element(By.XPATH, f'/html/body/div[3]/div/section/div/section/div/div[5]/div/div/div/div[2]/div/div/div[2]/div[4]/div[{i}]/p').click()\n",
    "    print('Acabo de abrir tab')\n",
    "\n",
    "    # Defino lista vacía\n",
    "    lista_resps = []\n",
    "    time.sleep(1)\n",
    "    # Relleno lista con respuestas\n",
    "    # Appendeo fecha\n",
    "    lista_resps.append(driver.find_element(By.XPATH, '/html/body/div[3]/div/section/div/section/div/div[5]/div/div/div/div[2]/div/div/div[2]/div[2]/div[3]/div[3]/div[2]/p[4]').text)\n",
    "    time.sleep(0.5)\n",
    "    # Appendeo lat. y long. juntos\n",
    "    lista_resps.append(driver.find_element(By.XPATH, '/html/body/div[3]/div/section/div/section/div/div[5]/div/div/div/div[2]/div/div/div[2]/div[2]/div[3]/div[3]/div[2]/p[5]').text)\n",
    "    time.sleep(0.5)\n",
    "    # Appendeo pregunta 1: GTOA Protocol\n",
    "    lista_resps.append(driver.find_element(By.XPATH, '/html/body/div[3]/div/section/div/section/div/div[5]/div/div/div/div[2]/div/div/div[2]/div[2]/div[3]/div[3]/div[2]/p[7]').text)\n",
    "    time.sleep(0.5)\n",
    "    # Appendeo pregunta 2: Boat Type\n",
    "    lista_resps.append(driver.find_element(By.XPATH, '/html/body/div[3]/div/section/div/section/div/div[5]/div/div/div/div[2]/div/div/div[2]/div[2]/div[3]/div[3]/div[2]/p[9]').text)\n",
    "    time.sleep(0.5)\n",
    "    # Appendeo pregunta 3: Boat length (metres)\n",
    "    lista_resps.append(driver.find_element(By.XPATH, '/html/body/div[3]/div/section/div/section/div/div[5]/div/div/div/div[2]/div/div/div[2]/div[2]/div[3]/div[3]/div[2]/p[11]').text)\n",
    "    time.sleep(0.5)\n",
    "    # Appendeo pregunta 4: Towing an inflatable?\n",
    "    lista_resps.append(driver.find_element(By.XPATH, '/html/body/div[3]/div/section/div/section/div/div[5]/div/div/div/div[2]/div/div/div[2]/div[2]/div[3]/div[3]/div[2]/p[13]').text)\n",
    "    time.sleep(0.5)\n",
    "    # Appendeo pregunta 5: Trailing fishing lure?\n",
    "    lista_resps.append(driver.find_element(By.XPATH, '/html/body/div[3]/div/section/div/section/div/div[5]/div/div/div/div[2]/div/div/div[2]/div[2]/div[3]/div[3]/div[2]/p[15]').text)\n",
    "    time.sleep(0.5)\n",
    "    # Appendeo pregunta 6: Did orcas make physical contact with boat\n",
    "    lista_resps.append(driver.find_element(By.XPATH, '/html/body/div[3]/div/section/div/section/div/div[5]/div/div/div/div[2]/div/div/div[2]/div[2]/div[3]/div[3]/div[2]/p[17]').text)\n",
    "    time.sleep(0.5)\n",
    "    # Appendeo pregunta 7: Number of adult orcas seen?\n",
    "    lista_resps.append(driver.find_element(By.XPATH, '/html/body/div[3]/div/section/div/section/div/div[5]/div/div/div/div[2]/div/div/div[2]/div[2]/div[3]/div[3]/div[2]/p[19]').text)\n",
    "    time.sleep(0.5)\n",
    "    # Appendeo pregunta 8: Rudder type\n",
    "    lista_resps.append(driver.find_element(By.XPATH, '/html/body/div[3]/div/section/div/section/div/div[5]/div/div/div/div[2]/div/div/div[2]/div[2]/div[3]/div[3]/div[2]/p[21]').text)\n",
    "    time.sleep(0.5)\n",
    "    # Appendeo pregunta 9: Motoring or sailing?\n",
    "    lista_resps.append(driver.find_element(By.XPATH, '/html/body/div[3]/div/section/div/section/div/div[5]/div/div/div/div[2]/div/div/div[2]/div[2]/div[3]/div[3]/div[2]/p[23]').text)\n",
    "    time.sleep(0.5)\n",
    "    # Appendeo pregunta 10: Speed (knots)\n",
    "    lista_resps.append(driver.find_element(By.XPATH, '/html/body/div[3]/div/section/div/section/div/div[5]/div/div/div/div[2]/div/div/div[2]/div[2]/div[3]/div[3]/div[2]/p[25]').text)\n",
    "    time.sleep(0.5)\n",
    "    # Appendeo pregunta 11: Sea state\n",
    "    lista_resps.append(driver.find_element(By.XPATH, '/html/body/div[3]/div/section/div/section/div/div[5]/div/div/div/div[2]/div/div/div[2]/div[2]/div[3]/div[3]/div[2]/p[27]').text)\n",
    "    time.sleep(0.5)\n",
    "    # Appendeo pregunta 12: Wind Speed (Beaufort)\n",
    "    lista_resps.append(driver.find_element(By.XPATH, '/html/body/div[3]/div/section/div/section/div/div[5]/div/div/div/div[2]/div/div/div[2]/div[2]/div[3]/div[3]/div[2]/p[29]').text)\n",
    "    time.sleep(0.5)\n",
    "    # Appendeo pregunta 13: Darkness or daylight\n",
    "    lista_resps.append(driver.find_element(By.XPATH, '/html/body/div[3]/div/section/div/section/div/div[5]/div/div/div/div[2]/div/div/div[2]/div[2]/div[3]/div[3]/div[2]/p[31]').text)\n",
    "    time.sleep(0.5)\n",
    "    # Appendeo pregunta 14: Cloud cover\n",
    "    lista_resps.append(driver.find_element(By.XPATH, '/html/body/div[3]/div/section/div/section/div/div[5]/div/div/div/div[2]/div/div/div[2]/div[2]/div[3]/div[3]/div[2]/p[33]').text)\n",
    "    time.sleep(0.5)\n",
    "    # Appendeo pregunta 15: Distance off land (nautical miles)\n",
    "    lista_resps.append(driver.find_element(By.XPATH, '/html/body/div[3]/div/section/div/section/div/div[5]/div/div/div/div[2]/div/div/div[2]/div[2]/div[3]/div[3]/div[2]/p[35]').text)\n",
    "    time.sleep(0.5)\n",
    "    # Appendeo pregunta 16: Depth (metres)\n",
    "    lista_resps.append(driver.find_element(By.XPATH, '/html/body/div[3]/div/section/div/section/div/div[5]/div/div/div/div[2]/div/div/div[2]/div[2]/div[3]/div[3]/div[2]/p[37]').text)\n",
    "    time.sleep(0.5)\n",
    "    # Appendeo pregunta 17:Depth gauge ON?\n",
    "    lista_resps.append(driver.find_element(By.XPATH, '/html/body/div[3]/div/section/div/section/div/div[5]/div/div/div/div[2]/div/div/div[2]/div[2]/div[3]/div[3]/div[2]/p[39]').text)\n",
    "    time.sleep(0.5)\n",
    "    # Appendeo pregunta 18: Autopilot ON?\n",
    "    lista_resps.append(driver.find_element(By.XPATH, '/html/body/div[3]/div/section/div/section/div/div[5]/div/div/div/div[2]/div/div/div[2]/div[2]/div[3]/div[3]/div[2]/p[41]').text)\n",
    "    time.sleep(0.5)\n",
    "    # Appendeo pregunta 19: Hull topside colour\n",
    "    lista_resps.append(driver.find_element(By.XPATH, '/html/body/div[3]/div/section/div/section/div/div[5]/div/div/div/div[2]/div/div/div[2]/div[2]/div[3]/div[3]/div[2]/p[43]').text)\n",
    "    time.sleep(0.5)\n",
    "    # Appendeo pregunta 20: Antifoul colour\n",
    "    lista_resps.append(driver.find_element(By.XPATH, '/html/body/div[3]/div/section/div/section/div/div[5]/div/div/div/div[2]/div/div/div[2]/div[2]/div[3]/div[3]/div[2]/p[45]').text)\n",
    "    time.sleep(0.5)\n",
    "    # Appendeo pregunta 21: Was the boat damaged and in need of a repair?\n",
    "    lista_resps.append(driver.find_element(By.XPATH, '/html/body/div[3]/div/section/div/section/div/div[5]/div/div/div/div[2]/div/div/div[2]/div[2]/div[3]/div[3]/div[2]/p[47]').text)\n",
    "    time.sleep(0.5)\n",
    "    # Appendeo pregunta 22: Tow required\n",
    "    lista_resps.append(driver.find_element(By.XPATH, '/html/body/div[3]/div/section/div/section/div/div[5]/div/div/div/div[2]/div/div/div[2]/div[2]/div[3]/div[3]/div[2]/p[49]').text)\n",
    "    time.sleep(0.5)\n",
    "    # Appendeo pregunta 23: Crew response\n",
    "    lista_resps.append(driver.find_element(By.XPATH, '/html/body/div[3]/div/section/div/section/div/div[5]/div/div/div/div[2]/div/div/div[2]/div[2]/div[3]/div[3]/div[2]/p[51]').text)\n",
    "    time.sleep(0.5)\n",
    "    # Appendeo pregunta 24: Orca behaviour\n",
    "    lista_resps.append(driver.find_element(By.XPATH, '/html/body/div[3]/div/section/div/section/div/div[5]/div/div/div/div[2]/div/div/div[2]/div[2]/div[3]/div[3]/div[2]/p[53]').text)\n",
    "    time.sleep(0.5)\n",
    "    time.sleep(1)\n",
    "    # En este punto tengo la lista con todas las respuestas hasta orca behaviour\n",
    "\n",
    "    # Meto la lista en el dataframe\n",
    "    df.loc[i-1] = lista_resps\n",
    "\n",
    "    print('Simulo que estoy leyendo info y cierro tab')\n",
    "\n",
    "    # Paso a cerrar la tab y pasar al siguiente paso cuando recomience bucle\n",
    "    time.sleep(1)\n",
    "    driver.find_element(By.XPATH, '/html/body/div[3]/div/section/div/section/div/div[5]/div/div/div/div[2]/div/div/div[2]/div[2]/div[3]/div[3]/div[1]/span[1]').click()\n"
   ]
  },
  {
   "cell_type": "code",
   "execution_count": 17,
   "metadata": {},
   "outputs": [
    {
     "data": {
      "text/html": [
       "<div>\n",
       "<style scoped>\n",
       "    .dataframe tbody tr th:only-of-type {\n",
       "        vertical-align: middle;\n",
       "    }\n",
       "\n",
       "    .dataframe tbody tr th {\n",
       "        vertical-align: top;\n",
       "    }\n",
       "\n",
       "    .dataframe thead th {\n",
       "        text-align: right;\n",
       "    }\n",
       "</style>\n",
       "<table border=\"1\" class=\"dataframe\">\n",
       "  <thead>\n",
       "    <tr style=\"text-align: right;\">\n",
       "      <th></th>\n",
       "      <th>date</th>\n",
       "      <th>lat_and_long</th>\n",
       "      <th>GTOA_Protocol</th>\n",
       "      <th>Boat_Type</th>\n",
       "      <th>Boat_Length</th>\n",
       "      <th>Towing_Inflatable</th>\n",
       "      <th>Trailing_Fishing_Lure</th>\n",
       "      <th>Physical_Contact_With_Boat</th>\n",
       "      <th>Number_of_Adult_Orcas</th>\n",
       "      <th>Rudder</th>\n",
       "      <th>Motoring_or_Sailing</th>\n",
       "      <th>Speed_Knots</th>\n",
       "      <th>Sea_State</th>\n",
       "      <th>Wind_Speed_Beaufort</th>\n",
       "      <th>Daylight_or_Darkness</th>\n",
       "      <th>Cloud_Cover</th>\n",
       "      <th>Distance_Off_Land_NM</th>\n",
       "      <th>Depth_Meters</th>\n",
       "      <th>Depth_Gauge</th>\n",
       "      <th>Autopilot</th>\n",
       "      <th>Hull_Topsides_Color</th>\n",
       "      <th>Antifoul_Color</th>\n",
       "      <th>Boat_Damaged</th>\n",
       "      <th>Tow_Required</th>\n",
       "      <th>Crew_Response</th>\n",
       "      <th>Orcas_Behaviour</th>\n",
       "    </tr>\n",
       "  </thead>\n",
       "  <tbody>\n",
       "    <tr>\n",
       "      <th>0</th>\n",
       "      <td>2023-11-01 22:15:00</td>\n",
       "      <td>32 47.4980 N, 9 54.3980 W</td>\n",
       "      <td>No, did not follow protocol, interaction laste...</td>\n",
       "      <td>Sail</td>\n",
       "      <td>10 - 12.5m</td>\n",
       "      <td>Not towing</td>\n",
       "      <td>No</td>\n",
       "      <td>No</td>\n",
       "      <td>1</td>\n",
       "      <td>Spade</td>\n",
       "      <td>Sailing</td>\n",
       "      <td>5 - 7</td>\n",
       "      <td>Moderate</td>\n",
       "      <td>5 - 6 (17 - 27 knots)</td>\n",
       "      <td>Night</td>\n",
       "      <td>0 - 25%</td>\n",
       "      <td>Over 10</td>\n",
       "      <td>200m+</td>\n",
       "      <td>On</td>\n",
       "      <td>On</td>\n",
       "      <td>White/light</td>\n",
       "      <td>Blue</td>\n",
       "      <td>No</td>\n",
       "      <td>No</td>\n",
       "      <td>Orca interaction at 10:15pm on 01/11, 40 miles...</td>\n",
       "      <td>I would describe the behaviour of the Orca dur...</td>\n",
       "    </tr>\n",
       "    <tr>\n",
       "      <th>1</th>\n",
       "      <td>2023-10-31 07:50:00</td>\n",
       "      <td>39 26.0000 N, 9 23.0000 W</td>\n",
       "      <td>Yes, followed protocol, interaction lasted les...</td>\n",
       "      <td>Sail</td>\n",
       "      <td>12.5 - 15m</td>\n",
       "      <td>Not towing</td>\n",
       "      <td>No</td>\n",
       "      <td>Yes</td>\n",
       "      <td>2</td>\n",
       "      <td>5</td>\n",
       "      <td>Twin rudder</td>\n",
       "      <td>Motoring</td>\n",
       "      <td>5 - 7</td>\n",
       "      <td>Rough</td>\n",
       "      <td>3 - 4 (7 - 16 knots)</td>\n",
       "      <td>Day</td>\n",
       "      <td>50 - 75%</td>\n",
       "      <td>2 - 5</td>\n",
       "      <td>40 - 200m</td>\n",
       "      <td>On</td>\n",
       "      <td>On</td>\n",
       "      <td>White/light</td>\n",
       "      <td>Black</td>\n",
       "      <td>Yes, moderate - immediate repairs required</td>\n",
       "      <td>No</td>\n",
       "      <td>We had sandbags on our sugar scoops and metal ...</td>\n",
       "    </tr>\n",
       "    <tr>\n",
       "      <th>2</th>\n",
       "      <td>2023-09-19 11:00:00</td>\n",
       "      <td>37 40.0000 N, 8 54.0000 W</td>\n",
       "      <td>No, did not follow protocol, interaction laste...</td>\n",
       "      <td>Sail</td>\n",
       "      <td>12.5 - 15m</td>\n",
       "      <td>Not towing</td>\n",
       "      <td>No</td>\n",
       "      <td>Yes</td>\n",
       "      <td>1</td>\n",
       "      <td>Spade</td>\n",
       "      <td>Motoring</td>\n",
       "      <td>5 - 7</td>\n",
       "      <td>Calm</td>\n",
       "      <td>3 - 4 (7 - 16 knots)</td>\n",
       "      <td>Day</td>\n",
       "      <td>0 - 25%</td>\n",
       "      <td>2 - 5</td>\n",
       "      <td>40 - 200m</td>\n",
       "      <td>On</td>\n",
       "      <td>On</td>\n",
       "      <td>White/light</td>\n",
       "      <td>Other</td>\n",
       "      <td>Yes, moderate - immediate repairs required</td>\n",
       "      <td>No</td>\n",
       "      <td>We saw the orca approach from 10 o’clock posit...</td>\n",
       "      <td>There was an initial approach 45 minutes earli...</td>\n",
       "    </tr>\n",
       "  </tbody>\n",
       "</table>\n",
       "</div>"
      ],
      "text/plain": [
       "                  date               lat_and_long  \\\n",
       "0  2023-11-01 22:15:00  32 47.4980 N, 9 54.3980 W   \n",
       "1  2023-10-31 07:50:00  39 26.0000 N, 9 23.0000 W   \n",
       "2  2023-09-19 11:00:00  37 40.0000 N, 8 54.0000 W   \n",
       "\n",
       "                                       GTOA_Protocol Boat_Type Boat_Length  \\\n",
       "0  No, did not follow protocol, interaction laste...      Sail  10 - 12.5m   \n",
       "1  Yes, followed protocol, interaction lasted les...      Sail  12.5 - 15m   \n",
       "2  No, did not follow protocol, interaction laste...      Sail  12.5 - 15m   \n",
       "\n",
       "  Towing_Inflatable Trailing_Fishing_Lure Physical_Contact_With_Boat  \\\n",
       "0        Not towing                    No                         No   \n",
       "1        Not towing                    No                        Yes   \n",
       "2        Not towing                    No                        Yes   \n",
       "\n",
       "  Number_of_Adult_Orcas Rudder Motoring_or_Sailing Speed_Knots Sea_State  \\\n",
       "0                     1  Spade             Sailing       5 - 7  Moderate   \n",
       "1                     2      5         Twin rudder    Motoring     5 - 7   \n",
       "2                     1  Spade            Motoring       5 - 7      Calm   \n",
       "\n",
       "     Wind_Speed_Beaufort  Daylight_or_Darkness Cloud_Cover  \\\n",
       "0  5 - 6 (17 - 27 knots)                 Night     0 - 25%   \n",
       "1                  Rough  3 - 4 (7 - 16 knots)         Day   \n",
       "2   3 - 4 (7 - 16 knots)                   Day     0 - 25%   \n",
       "\n",
       "  Distance_Off_Land_NM Depth_Meters Depth_Gauge Autopilot Hull_Topsides_Color  \\\n",
       "0              Over 10        200m+          On        On         White/light   \n",
       "1             50 - 75%        2 - 5   40 - 200m        On                  On   \n",
       "2                2 - 5    40 - 200m          On        On         White/light   \n",
       "\n",
       "  Antifoul_Color                                Boat_Damaged  \\\n",
       "0           Blue                                          No   \n",
       "1    White/light                                       Black   \n",
       "2          Other  Yes, moderate - immediate repairs required   \n",
       "\n",
       "                                 Tow_Required  \\\n",
       "0                                          No   \n",
       "1  Yes, moderate - immediate repairs required   \n",
       "2                                          No   \n",
       "\n",
       "                                       Crew_Response  \\\n",
       "0  Orca interaction at 10:15pm on 01/11, 40 miles...   \n",
       "1                                                 No   \n",
       "2  We saw the orca approach from 10 o’clock posit...   \n",
       "\n",
       "                                     Orcas_Behaviour  \n",
       "0  I would describe the behaviour of the Orca dur...  \n",
       "1  We had sandbags on our sugar scoops and metal ...  \n",
       "2  There was an initial approach 45 minutes earli...  "
      ]
     },
     "execution_count": 17,
     "metadata": {},
     "output_type": "execute_result"
    }
   ],
   "source": [
    "df"
   ]
  },
  {
   "cell_type": "code",
   "execution_count": 77,
   "metadata": {},
   "outputs": [],
   "source": [
    "lista_resps = []\n",
    "lista_resps.append(driver.find_element(By.XPATH, '/html/body/div[3]/div/section/div/section/div/div[5]/div/div/div/div[2]/div/div/div[2]/div[2]/div[3]/div[3]/div[2]/p[4]').text)"
   ]
  },
  {
   "cell_type": "code",
   "execution_count": 78,
   "metadata": {},
   "outputs": [
    {
     "data": {
      "text/plain": [
       "['2023-11-01 22:15:00']"
      ]
     },
     "execution_count": 78,
     "metadata": {},
     "output_type": "execute_result"
    }
   ],
   "source": [
    "lista_resps"
   ]
  },
  {
   "cell_type": "code",
   "execution_count": 82,
   "metadata": {},
   "outputs": [],
   "source": [
    "driver.quit()"
   ]
  },
  {
   "cell_type": "code",
   "execution_count": null,
   "metadata": {},
   "outputs": [],
   "source": []
  }
 ],
 "metadata": {
  "kernelspec": {
   "display_name": "finalproject",
   "language": "python",
   "name": "python3"
  },
  "language_info": {
   "codemirror_mode": {
    "name": "ipython",
    "version": 3
   },
   "file_extension": ".py",
   "mimetype": "text/x-python",
   "name": "python",
   "nbconvert_exporter": "python",
   "pygments_lexer": "ipython3",
   "version": "3.10.13"
  }
 },
 "nbformat": 4,
 "nbformat_minor": 2
}
