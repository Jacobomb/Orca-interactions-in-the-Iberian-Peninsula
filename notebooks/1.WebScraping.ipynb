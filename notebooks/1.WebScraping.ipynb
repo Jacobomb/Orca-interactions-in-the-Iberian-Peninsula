{
 "cells": [
  {
   "cell_type": "markdown",
   "metadata": {},
   "source": [
    "#### 1. Obtención base de datos - Web Scraping"
   ]
  },
  {
   "cell_type": "code",
   "execution_count": 1,
   "metadata": {},
   "outputs": [],
   "source": [
    "import pandas as pd\n",
    "from selenium.webdriver.chrome.options import Options\n",
    "from webdriver_manager.chrome import ChromeDriverManager\n",
    "\n",
    "#driver configuration\n",
    "opciones=Options()\n",
    "\n",
    "opciones.add_experimental_option('excludeSwitches', ['enable-automation'])\n",
    "opciones.add_experimental_option('useAutomationExtension', False)\n",
    "opciones.headless=False    # si True, no aperece la ventana (headless=no visible)\n",
    "opciones.add_argument('--start-maximized')         # comienza maximizado\n",
    "#opciones.add_argument('user-data-dir=selenium')    # mantiene las cookies\n",
    "#opciones.add_extension('driver_folder/adblock.crx')       # adblocker\n",
    "opciones.add_argument('--incognito')\n",
    "from selenium.webdriver.common.by import By\n",
    "from IPython.display import Image # Para mostrar imágenes en python\n",
    "from bs4 import BeautifulSoup as bs\n",
    "import time\n",
    "from selenium.webdriver.common.keys import Keys\n",
    "from selenium.webdriver.common.action_chains import ActionChains\n",
    "\n",
    "pd.set_option('display.max_columns', None)"
   ]
  },
  {
   "cell_type": "code",
   "execution_count": 2,
   "metadata": {},
   "outputs": [
    {
     "name": "stderr",
     "output_type": "stream",
     "text": [
      "Cache folder (C:\\Users\\jacom\\.cache\\selenium) cannot be created: No se puede crear un archivo que ya existe. (os error 183)\n",
      "Cache folder (C:\\Users\\jacom\\.cache\\selenium) cannot be created: No se puede crear un archivo que ya existe. (os error 183)\n",
      "Cache folder (C:\\Users\\jacom\\.cache\\selenium) cannot be created: No se puede crear un archivo que ya existe. (os error 183)\n"
     ]
    }
   ],
   "source": [
    "from selenium import webdriver\n",
    "PATH = 'driver/chromedriver.exe'\n",
    "driver = webdriver.Chrome()"
   ]
  },
  {
   "cell_type": "code",
   "execution_count": 3,
   "metadata": {},
   "outputs": [],
   "source": [
    "# Definimos URL de búsqueda\n",
    "url = 'https://www.theca.org.uk/orcas/reports'"
   ]
  },
  {
   "cell_type": "code",
   "execution_count": 4,
   "metadata": {},
   "outputs": [],
   "source": [
    "driver.get(url)"
   ]
  },
  {
   "cell_type": "code",
   "execution_count": 5,
   "metadata": {},
   "outputs": [],
   "source": [
    "driver.find_element(By.XPATH, '/html/body/div[5]/div/div/div[2]/button[2]').click() # Clickamos en \"No cookies, thanks\""
   ]
  },
  {
   "cell_type": "code",
   "execution_count": 6,
   "metadata": {},
   "outputs": [],
   "source": [
    "# Clickamos en \"SHOW LIST\"\n",
    "time.sleep(2)\n",
    "driver.find_element(By.XPATH, '/html/body/div[3]/div/section/div/section/div/div[5]/div/div/div/div[2]/div/div/div[2]/div[2]/div[1]/strong').click()"
   ]
  },
  {
   "cell_type": "code",
   "execution_count": 7,
   "metadata": {},
   "outputs": [],
   "source": [
    "# Clickamos en primera pestaña con datos del caso más reciente\n",
    "time.sleep(1)\n",
    "driver.find_element(By.XPATH, '/html/body/div[3]/div/section/div/section/div/div[5]/div/div/div/div[2]/div/div/div[2]/div[4]/div[1]/p').click()\n"
   ]
  },
  {
   "cell_type": "code",
   "execution_count": 8,
   "metadata": {},
   "outputs": [],
   "source": [
    "# Defino una lista vacía donde voy a ir appendeando la fecha, lat. y long. y las respuestas de cada pregunta del cuestionario que responden los \n",
    "# skippers de cada embarcación que ha experienciado una interacción con una orca:\n",
    "questionnaire_list = []"
   ]
  },
  {
   "cell_type": "code",
   "execution_count": 51,
   "metadata": {},
   "outputs": [],
   "source": [
    "# Appendeo fecha\n",
    "questionnaire_list.append(driver.find_element(By.XPATH, '/html/body/div[3]/div/section/div/section/div/div[5]/div/div/div/div[2]/div/div/div[2]/div[2]/div[3]/div[3]/div[2]/p[4]').text)\n",
    "time.sleep(0.5)\n",
    "# Appendeo lat. y long. juntos\n",
    "questionnaire_list.append(driver.find_element(By.XPATH, '/html/body/div[3]/div/section/div/section/div/div[5]/div/div/div/div[2]/div/div/div[2]/div[2]/div[3]/div[3]/div[2]/p[5]').text)\n",
    "time.sleep(0.5)\n",
    "# Appendeo pregunta 1: GTOA Protocol\n",
    "questionnaire_list.append(driver.find_element(By.XPATH, '/html/body/div[3]/div/section/div/section/div/div[5]/div/div/div/div[2]/div/div/div[2]/div[2]/div[3]/div[3]/div[2]/p[7]').text)\n",
    "time.sleep(0.5)\n",
    "# Appendeo pregunta 2: Boat Type\n",
    "questionnaire_list.append(driver.find_element(By.XPATH, '/html/body/div[3]/div/section/div/section/div/div[5]/div/div/div/div[2]/div/div/div[2]/div[2]/div[3]/div[3]/div[2]/p[9]').text)\n",
    "time.sleep(0.5)\n",
    "# Appendeo pregunta 3: Boat length (metres)\n",
    "questionnaire_list.append(driver.find_element(By.XPATH, '/html/body/div[3]/div/section/div/section/div/div[5]/div/div/div/div[2]/div/div/div[2]/div[2]/div[3]/div[3]/div[2]/p[11]').text)\n",
    "time.sleep(0.5)\n",
    "# Appendeo pregunta 4: Towing an inflatable?\n",
    "questionnaire_list.append(driver.find_element(By.XPATH, '/html/body/div[3]/div/section/div/section/div/div[5]/div/div/div/div[2]/div/div/div[2]/div[2]/div[3]/div[3]/div[2]/p[13]').text)\n",
    "time.sleep(0.5)\n",
    "# Appendeo pregunta 5: Trailing fishing lure?\n",
    "questionnaire_list.append(driver.find_element(By.XPATH, '/html/body/div[3]/div/section/div/section/div/div[5]/div/div/div/div[2]/div/div/div[2]/div[2]/div[3]/div[3]/div[2]/p[15]').text)\n",
    "time.sleep(0.5)\n",
    "# Appendeo pregunta 6: Did orcas make physical contact with boat\n",
    "questionnaire_list.append(driver.find_element(By.XPATH, '/html/body/div[3]/div/section/div/section/div/div[5]/div/div/div/div[2]/div/div/div[2]/div[2]/div[3]/div[3]/div[2]/p[17]').text)\n",
    "time.sleep(0.5)\n",
    "# Appendeo pregunta 7: Number of adult orcas seen?\n",
    "questionnaire_list.append(driver.find_element(By.XPATH, '/html/body/div[3]/div/section/div/section/div/div[5]/div/div/div/div[2]/div/div/div[2]/div[2]/div[3]/div[3]/div[2]/p[19]').text)\n",
    "time.sleep(0.5)\n",
    "# Appendeo pregunta 8: Rudder type\n",
    "questionnaire_list.append(driver.find_element(By.XPATH, '/html/body/div[3]/div/section/div/section/div/div[5]/div/div/div/div[2]/div/div/div[2]/div[2]/div[3]/div[3]/div[2]/p[21]').text)\n",
    "time.sleep(0.5)\n",
    "# Appendeo pregunta 9: Motoring or sailing?\n",
    "questionnaire_list.append(driver.find_element(By.XPATH, '/html/body/div[3]/div/section/div/section/div/div[5]/div/div/div/div[2]/div/div/div[2]/div[2]/div[3]/div[3]/div[2]/p[23]').text)\n",
    "time.sleep(0.5)\n",
    "# Appendeo pregunta 10: Speed (knots)\n",
    "questionnaire_list.append(driver.find_element(By.XPATH, '/html/body/div[3]/div/section/div/section/div/div[5]/div/div/div/div[2]/div/div/div[2]/div[2]/div[3]/div[3]/div[2]/p[25]').text)\n",
    "time.sleep(0.5)\n",
    "# Appendeo pregunta 11: Sea state\n",
    "questionnaire_list.append(driver.find_element(By.XPATH, '/html/body/div[3]/div/section/div/section/div/div[5]/div/div/div/div[2]/div/div/div[2]/div[2]/div[3]/div[3]/div[2]/p[27]').text)\n",
    "time.sleep(0.5)\n",
    "# Appendeo pregunta 12: Wind Speed (Beaufort)\n",
    "questionnaire_list.append(driver.find_element(By.XPATH, '/html/body/div[3]/div/section/div/section/div/div[5]/div/div/div/div[2]/div/div/div[2]/div[2]/div[3]/div[3]/div[2]/p[29]').text)\n",
    "time.sleep(0.5)\n",
    "# Appendeo pregunta 13: Darkness or daylight\n",
    "questionnaire_list.append(driver.find_element(By.XPATH, '/html/body/div[3]/div/section/div/section/div/div[5]/div/div/div/div[2]/div/div/div[2]/div[2]/div[3]/div[3]/div[2]/p[31]').text)\n",
    "time.sleep(0.5)\n",
    "# Appendeo pregunta 14: Cloud cover\n",
    "questionnaire_list.append(driver.find_element(By.XPATH, '/html/body/div[3]/div/section/div/section/div/div[5]/div/div/div/div[2]/div/div/div[2]/div[2]/div[3]/div[3]/div[2]/p[33]').text)\n",
    "time.sleep(0.5)\n",
    "# Appendeo pregunta 15: Distance off land (nautical miles)\n",
    "questionnaire_list.append(driver.find_element(By.XPATH, '/html/body/div[3]/div/section/div/section/div/div[5]/div/div/div/div[2]/div/div/div[2]/div[2]/div[3]/div[3]/div[2]/p[35]').text)\n",
    "time.sleep(0.5)\n",
    "# Appendeo pregunta 16: Depth (metres)\n",
    "questionnaire_list.append(driver.find_element(By.XPATH, '/html/body/div[3]/div/section/div/section/div/div[5]/div/div/div/div[2]/div/div/div[2]/div[2]/div[3]/div[3]/div[2]/p[37]').text)\n",
    "time.sleep(0.5)\n",
    "# Appendeo pregunta 17:Depth gauge ON?\n",
    "questionnaire_list.append(driver.find_element(By.XPATH, '/html/body/div[3]/div/section/div/section/div/div[5]/div/div/div/div[2]/div/div/div[2]/div[2]/div[3]/div[3]/div[2]/p[39]').text)\n",
    "time.sleep(0.5)\n",
    "# Appendeo pregunta 18: Autopilot ON?\n",
    "questionnaire_list.append(driver.find_element(By.XPATH, '/html/body/div[3]/div/section/div/section/div/div[5]/div/div/div/div[2]/div/div/div[2]/div[2]/div[3]/div[3]/div[2]/p[41]').text)\n",
    "time.sleep(0.5)\n",
    "# Appendeo pregunta 19: Hull topside colour\n",
    "questionnaire_list.append(driver.find_element(By.XPATH, '/html/body/div[3]/div/section/div/section/div/div[5]/div/div/div/div[2]/div/div/div[2]/div[2]/div[3]/div[3]/div[2]/p[43]').text)\n",
    "time.sleep(0.5)\n",
    "# Appendeo pregunta 20: Antifoul colour\n",
    "questionnaire_list.append(driver.find_element(By.XPATH, '/html/body/div[3]/div/section/div/section/div/div[5]/div/div/div/div[2]/div/div/div[2]/div[2]/div[3]/div[3]/div[2]/p[45]').text)\n",
    "time.sleep(0.5)\n",
    "# Appendeo pregunta 21: Was the boat damaged and in need of a repair?\n",
    "questionnaire_list.append(driver.find_element(By.XPATH, '/html/body/div[3]/div/section/div/section/div/div[5]/div/div/div/div[2]/div/div/div[2]/div[2]/div[3]/div[3]/div[2]/p[47]').text)\n",
    "time.sleep(0.5)\n",
    "# Appendeo pregunta 22: Tow required\n",
    "questionnaire_list.append(driver.find_element(By.XPATH, '/html/body/div[3]/div/section/div/section/div/div[5]/div/div/div/div[2]/div/div/div[2]/div[2]/div[3]/div[3]/div[2]/p[49]').text)\n",
    "time.sleep(0.5)\n",
    "# Appendeo pregunta 23: Crew response\n",
    "questionnaire_list.append(driver.find_element(By.XPATH, '/html/body/div[3]/div/section/div/section/div/div[5]/div/div/div/div[2]/div/div/div[2]/div[2]/div[3]/div[3]/div[2]/p[51]').text)\n",
    "time.sleep(0.5)\n",
    "# Appendeo pregunta 24: Orca behaviour\n",
    "questionnaire_list.append(driver.find_element(By.XPATH, '/html/body/div[3]/div/section/div/section/div/div[5]/div/div/div/div[2]/div/div/div[2]/div[2]/div[3]/div[3]/div[2]/p[53]').text)\n",
    "time.sleep(0.5)\n",
    "# Appendeo pregunta 25: Stage of day\n",
    "questionnaire_list.append(driver.find_element(By.XPATH, '/html/body/div[3]/div/section/div/section/div/div[5]/div/div/div/div[2]/div/div/div[2]/div[2]/div[3]/div[3]/div[2]/p[55]').text)\n",
    "time.sleep(0.5)\n",
    "# Appendeo pregunta 26: Tide\n",
    "questionnaire_list.append(driver.find_element(By.XPATH, '/html/body/div[3]/div/section/div/section/div/div[5]/div/div/div/div[2]/div/div/div[2]/div[2]/div[3]/div[3]/div[2]/p[59]').text)"
   ]
  },
  {
   "cell_type": "code",
   "execution_count": 52,
   "metadata": {},
   "outputs": [
    {
     "data": {
      "text/plain": [
       "['2023-11-01 22:15:00',\n",
       " '32 47.4980 N, 9 54.3980 W',\n",
       " 'No, did not follow protocol, interaction lasted less than 10 minutes',\n",
       " 'Sail',\n",
       " '10 - 12.5m',\n",
       " 'Not towing',\n",
       " 'No',\n",
       " 'No',\n",
       " '1',\n",
       " 'Spade',\n",
       " 'Sailing',\n",
       " '5 - 7',\n",
       " 'Moderate',\n",
       " '5 - 6 (17 - 27 knots)',\n",
       " 'Night',\n",
       " '0 - 25%',\n",
       " 'Over 10',\n",
       " '200m+',\n",
       " 'On',\n",
       " 'On',\n",
       " 'White/light',\n",
       " 'Blue',\n",
       " 'No',\n",
       " 'No',\n",
       " \"Orca interaction at 10:15pm on 01/11, 40 miles off the coast of Safi, on passage from Tangier to the Canary Islands. We were relaxing in the cockpit with a podcast playing quite loudly on a portable speaker. It was pitch black as the moon had not yet risen. A lone adult orca (to our knowledge) approached our yacht (Beneteau Oceanis 411) and surfaced about half a metre from our stern. We were only alerted to it's presence when it's blowhole spouted, roughly 0.5 metres off the left side of our stern, right next to our navigation light. It was so close to us that the water from its blowhole hit our chart plotter. We stood up to inspect and saw 1 very large (adult) Orca. We scrambled to grab our foghorn, and 2 x firecrackers that had been passed on to us by fellow sailors. We put on our lifejackets and deployed 1 firecracker into the water, around 1-2 minutes later. We then quickly turned our engine on and motor sailed ahead at full speed, bracing for impact. Luckily, the boat was not hit at all. We motored for around 1 hour before deciding that the coast was clear. There may have been more orcas, but we could not see because it was too dark.\",\n",
       " 'I would describe the behaviour of the Orca during this interaction as placid and curious. I think that it was possibly drawn to us because of our stern light, and perhaps the sound of the autopilot and the loud voices from the podcast being broadcast through our speaker. It did not display any aggressive behaviour, and the fact that it surfaced so close to our stern light indicates to me that it was just curiously checking us out. Given that we were taken completely by surprise, it took us a good few minutes to deploy our deterrent tactics. It would have been only a few metres away from our rudder, and could have easily attacked us if it wanted to.',\n",
       " 'undefined',\n",
       " 'Within 3 days of spring tide']"
      ]
     },
     "execution_count": 52,
     "metadata": {},
     "output_type": "execute_result"
    }
   ],
   "source": [
    "questionnaire_list"
   ]
  },
  {
   "cell_type": "markdown",
   "metadata": {},
   "source": [
    "* Vale guay, tengo una lista que compondría el valor de cada una de las columnas para la primera fila - la última interacción orca-barco.\n",
    "\n",
    "* Ahora el objetivo de esto sería meter las 26 respuestas a una lista dentro de un bucle , y que cada paso por bucle rellene una lista. El bucle se repetirá tantas veces como interacciones de orca haya.\n",
    "\n",
    "* Voy a meter un `time.sleep(1)` entre cada pregunta.\n"
   ]
  },
  {
   "cell_type": "code",
   "execution_count": null,
   "metadata": {},
   "outputs": [],
   "source": []
  },
  {
   "cell_type": "code",
   "execution_count": null,
   "metadata": {},
   "outputs": [],
   "source": []
  },
  {
   "cell_type": "code",
   "execution_count": null,
   "metadata": {},
   "outputs": [],
   "source": [
    "# entrar en la primera pestaña\n",
    "/html/body/div[3]/div/section/div/section/div/div[5]/div/div/div/div[2]/div/div/div[2]/div[4]/div[1]/p\n",
    "\n"
   ]
  },
  {
   "cell_type": "code",
   "execution_count": null,
   "metadata": {},
   "outputs": [],
   "source": [
    "/html/body/div[3]/div/section/div/section/div/div[5]/div/div/div/div[2]/div/div/div[2]/div[4]/div[2]/p\n"
   ]
  },
  {
   "cell_type": "code",
   "execution_count": null,
   "metadata": {},
   "outputs": [],
   "source": [
    "/html/body/div[3]/div/section/div/section/div/div[5]/div/div/div/div[2]/div/div/div[2]/div[4]/div[3]/p"
   ]
  },
  {
   "cell_type": "code",
   "execution_count": null,
   "metadata": {},
   "outputs": [],
   "source": []
  },
  {
   "cell_type": "code",
   "execution_count": null,
   "metadata": {},
   "outputs": [],
   "source": []
  },
  {
   "cell_type": "code",
   "execution_count": null,
   "metadata": {},
   "outputs": [],
   "source": []
  },
  {
   "cell_type": "code",
   "execution_count": null,
   "metadata": {},
   "outputs": [],
   "source": []
  }
 ],
 "metadata": {
  "kernelspec": {
   "display_name": "finalproject",
   "language": "python",
   "name": "python3"
  },
  "language_info": {
   "codemirror_mode": {
    "name": "ipython",
    "version": 3
   },
   "file_extension": ".py",
   "mimetype": "text/x-python",
   "name": "python",
   "nbconvert_exporter": "python",
   "pygments_lexer": "ipython3",
   "version": "3.10.13"
  }
 },
 "nbformat": 4,
 "nbformat_minor": 2
}
